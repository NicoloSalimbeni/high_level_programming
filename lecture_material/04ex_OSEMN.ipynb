{
 "cells": [
  {
   "cell_type": "markdown",
   "id": "2bde12e5",
   "metadata": {},
   "source": [
    "# OSEMN Exercises"
   ]
  },
  {
   "cell_type": "markdown",
   "id": "8c40887b",
   "metadata": {},
   "source": [
    "1. Create a random list of number and then save it to a text file named \"simple_data.txt\""
   ]
  },
  {
   "cell_type": "code",
   "execution_count": 1,
   "id": "bc27f1a9",
   "metadata": {},
   "outputs": [],
   "source": [
    "import numpy as np\n",
    "\n",
    "file_name = \"simple_file.txt\"\n",
    "l_random = np.random.rand(10)\n",
    "\n",
    "with open(file_name, mode='w') as f:\n",
    "    for line in l_random:\n",
    "        f.write(str(line))\n",
    "        f.write(\"\\n\")"
   ]
  },
  {
   "cell_type": "markdown",
   "id": "6893b20e",
   "metadata": {},
   "source": [
    "2. Create a random matrix of 5x5 and then save it to a text file named \"data.txt\""
   ]
  },
  {
   "cell_type": "code",
   "execution_count": 2,
   "id": "345bd625",
   "metadata": {},
   "outputs": [],
   "source": [
    "import numpy as np\n",
    "\n",
    "my_matrix = np.random.rand(5, 5)\n",
    "file_name = \"matrix.txt\"\n",
    "\n",
    "with open(file_name, mode='w') as f:\n",
    "    for line in my_matrix:\n",
    "        for column in line:\n",
    "            f.write(str(column))\n",
    "            f.write(\" \")\n",
    "        f.write(\"\\n\")\n",
    "\n",
    "# or using a numpy built in function\n",
    "np.savetxt(file_name, my_matrix, fmt=\"%.2f\")"
   ]
  },
  {
   "cell_type": "markdown",
   "id": "b0358955",
   "metadata": {},
   "source": [
    "3. Load the saved txt file of point 2 and convert it to a csv file (by hand)"
   ]
  },
  {
   "cell_type": "code",
   "execution_count": 3,
   "id": "ded9d40e",
   "metadata": {},
   "outputs": [],
   "source": [
    "import numpy as np\n",
    "\n",
    "my_matrix = np.loadtxt(\"matrix.txt\")\n",
    "\n",
    "# now csv conversion by hand\n",
    "# it consist in sobstitute every \" \" with \",\"\n",
    "np.savetxt(\"matrix_to_csv.csv\", my_matrix, delimiter=',', fmt=\"%.2f\")"
   ]
  },
  {
   "cell_type": "markdown",
   "id": "bbdc18c6",
   "metadata": {},
   "source": [
    "4. load the binary file named credit_card.dat and convert the data into the real credit-card number. Each line correspond to a credit card number. Each character is composed by 6 bit (even the space) and the last 4 bit are just a padding\n",
    "\n",
    "hint: use the chr() function to convert a number to a char\n"
   ]
  },
  {
   "cell_type": "code",
   "execution_count": 5,
   "id": "76573a12",
   "metadata": {},
   "outputs": [
    {
     "name": "stdout",
     "output_type": "stream",
     "text": [
      "7648 5673 3775 2271\n",
      "3257 8247 3354 2266\n",
      "2722 0001 4011 6652\n",
      "0661 3063 3742 3150\n",
      "0432 1608 1462 4742\n",
      "5827 2027 8785 7303\n",
      "5774 8528 2087 1117\n",
      "8140 1210 6352 2845\n",
      "5764 1133 7301 7100\n",
      "6456 1737 4126 6726\n",
      "1228 8631 7382 0000\n",
      "7051 0160 5374 3166\n",
      "0618 3587 1630 6376\n",
      "1545 5454 7444 5636\n",
      "6735 3116 3202 6834\n",
      "7287 5011 1547 8413\n",
      "7033 2607 3328 4200\n",
      "2568 5244 1874 5024\n",
      "1684 2253 7570 7118\n",
      "0672 2576 0575 6631\n",
      "6332 8353 8787 1340\n",
      "1813 3361 1175 4211\n",
      "2477 6450 8840 2368\n",
      "5512 3505 2563 1326\n",
      "3083 7882 0621 0025\n",
      "4521 5148 8045 0334\n",
      "7563 3654 8713 5787\n",
      "8324 2664 0476 5561\n",
      "0565 2504 7168 3510\n",
      "5107 5507 1767 0738\n",
      "2462 1821 2448 1443\n",
      "2788 0638 6861 6554\n",
      "5851 5873 5474 0547\n",
      "0670 1004 4013 2655\n",
      "5874 5506 3048 0806\n",
      "2805 5401 8462 1260\n",
      "5083 8406 6310 1862\n",
      "1076 1445 3013 2266\n",
      "8440 4804 4844 5277\n",
      "4758 6141 0686 1387\n",
      "7586 0675 0315 2568\n",
      "2544 1258 7432 5165\n",
      "3474 5023 4434 5626\n",
      "1410 0270 0434 5086\n",
      "7315 4446 1104 4215\n",
      "0224 7742 8300 0266\n",
      "0170 2700 3145 0640\n",
      "2006 2437 8054 1600\n",
      "8142 4055 1776 0026\n",
      "3026 7380 1241 1084\n",
      "\n",
      "File readed completly\n"
     ]
    }
   ],
   "source": [
    "with open(\"./data/credit_card.dat\", 'r') as f:\n",
    "    # loop on lines\n",
    "    for line in f:\n",
    "        if len(line) < 6:\n",
    "            print(\"\\nFile readed completly\")\n",
    "        else:\n",
    "            num = []\n",
    "            for i in range(19):\n",
    "                num.append(chr(int(line[i * 6:(i + 1) * 6], 2)))\n",
    "            card = \"\".join(num)\n",
    "            print(card)"
   ]
  },
  {
   "cell_type": "markdown",
   "id": "ace1a417",
   "metadata": {},
   "source": [
    "5. Load the file \"user_data.json\", filter the data by the \"CreditCardType\" field equals to \"American Express\". Than save the data a to CSV.\""
   ]
  },
  {
   "cell_type": "code",
   "execution_count": 6,
   "id": "2e9400ad",
   "metadata": {},
   "outputs": [
    {
     "ename": "FileNotFoundError",
     "evalue": "[Errno 2] No such file or directory: 'user_data.json'",
     "output_type": "error",
     "traceback": [
      "\u001b[0;31m---------------------------------------------------------------------------\u001b[0m",
      "\u001b[0;31mFileNotFoundError\u001b[0m                         Traceback (most recent call last)",
      "Cell \u001b[0;32mIn[6], line 4\u001b[0m\n\u001b[1;32m      1\u001b[0m \u001b[38;5;28;01mimport\u001b[39;00m \u001b[38;5;21;01mcsv\u001b[39;00m\n\u001b[1;32m      2\u001b[0m \u001b[38;5;28;01mimport\u001b[39;00m \u001b[38;5;21;01mjson\u001b[39;00m\n\u001b[0;32m----> 4\u001b[0m data \u001b[38;5;241m=\u001b[39m json\u001b[38;5;241m.\u001b[39mload(\u001b[38;5;28;43mopen\u001b[39;49m\u001b[43m(\u001b[49m\u001b[38;5;124;43m\"\u001b[39;49m\u001b[38;5;124;43muser_data.json\u001b[39;49m\u001b[38;5;124;43m\"\u001b[39;49m\u001b[43m)\u001b[49m)\n\u001b[1;32m      6\u001b[0m fields \u001b[38;5;241m=\u001b[39m [\n\u001b[1;32m      7\u001b[0m     \u001b[38;5;124m'\u001b[39m\u001b[38;5;124mID\u001b[39m\u001b[38;5;124m'\u001b[39m, \u001b[38;5;124m'\u001b[39m\u001b[38;5;124mJobTitle\u001b[39m\u001b[38;5;124m'\u001b[39m, \u001b[38;5;124m'\u001b[39m\u001b[38;5;124mEmailAddress\u001b[39m\u001b[38;5;124m'\u001b[39m, \u001b[38;5;124m'\u001b[39m\u001b[38;5;124mFirstNameLastName\u001b[39m\u001b[38;5;124m'\u001b[39m, \u001b[38;5;124m'\u001b[39m\u001b[38;5;124mCreditCard\u001b[39m\u001b[38;5;124m'\u001b[39m,\n\u001b[1;32m      8\u001b[0m     \u001b[38;5;124m\"\u001b[39m\u001b[38;5;124mCreditCardType\u001b[39m\u001b[38;5;124m\"\u001b[39m\n\u001b[1;32m      9\u001b[0m ]\n\u001b[1;32m     10\u001b[0m file_name \u001b[38;5;241m=\u001b[39m \u001b[38;5;124m\"\u001b[39m\u001b[38;5;124mcredic_card_users_filtered.csv\u001b[39m\u001b[38;5;124m\"\u001b[39m\n",
      "File \u001b[0;32m~/.local/lib/python3.10/site-packages/IPython/core/interactiveshell.py:282\u001b[0m, in \u001b[0;36m_modified_open\u001b[0;34m(file, *args, **kwargs)\u001b[0m\n\u001b[1;32m    275\u001b[0m \u001b[38;5;28;01mif\u001b[39;00m file \u001b[38;5;129;01min\u001b[39;00m {\u001b[38;5;241m0\u001b[39m, \u001b[38;5;241m1\u001b[39m, \u001b[38;5;241m2\u001b[39m}:\n\u001b[1;32m    276\u001b[0m     \u001b[38;5;28;01mraise\u001b[39;00m \u001b[38;5;167;01mValueError\u001b[39;00m(\n\u001b[1;32m    277\u001b[0m         \u001b[38;5;124mf\u001b[39m\u001b[38;5;124m\"\u001b[39m\u001b[38;5;124mIPython won\u001b[39m\u001b[38;5;124m'\u001b[39m\u001b[38;5;124mt let you open fd=\u001b[39m\u001b[38;5;132;01m{\u001b[39;00mfile\u001b[38;5;132;01m}\u001b[39;00m\u001b[38;5;124m by default \u001b[39m\u001b[38;5;124m\"\u001b[39m\n\u001b[1;32m    278\u001b[0m         \u001b[38;5;124m\"\u001b[39m\u001b[38;5;124mas it is likely to crash IPython. If you know what you are doing, \u001b[39m\u001b[38;5;124m\"\u001b[39m\n\u001b[1;32m    279\u001b[0m         \u001b[38;5;124m\"\u001b[39m\u001b[38;5;124myou can use builtins\u001b[39m\u001b[38;5;124m'\u001b[39m\u001b[38;5;124m open.\u001b[39m\u001b[38;5;124m\"\u001b[39m\n\u001b[1;32m    280\u001b[0m     )\n\u001b[0;32m--> 282\u001b[0m \u001b[38;5;28;01mreturn\u001b[39;00m \u001b[43mio_open\u001b[49m\u001b[43m(\u001b[49m\u001b[43mfile\u001b[49m\u001b[43m,\u001b[49m\u001b[43m \u001b[49m\u001b[38;5;241;43m*\u001b[39;49m\u001b[43margs\u001b[49m\u001b[43m,\u001b[49m\u001b[43m \u001b[49m\u001b[38;5;241;43m*\u001b[39;49m\u001b[38;5;241;43m*\u001b[39;49m\u001b[43mkwargs\u001b[49m\u001b[43m)\u001b[49m\n",
      "\u001b[0;31mFileNotFoundError\u001b[0m: [Errno 2] No such file or directory: 'user_data.json'"
     ]
    }
   ],
   "source": [
    "import csv\n",
    "import json\n",
    "\n",
    "data = json.load(open(\"user_data.json\"))\n",
    "\n",
    "fields = [\n",
    "    'ID', 'JobTitle', 'EmailAddress', 'FirstNameLastName', 'CreditCard',\n",
    "    \"CreditCardType\"\n",
    "]\n",
    "file_name = \"credic_card_users_filtered.csv\"\n",
    "\n",
    "# open a csv to write\n",
    "with open(file_name, 'w') as csv_out:\n",
    "    csv_writer = csv.writer(csv_out)\n",
    "    csv_writer.writerow(fields)\n",
    "    for user in data:  # loop over users\n",
    "        if user[\"CreditCardType\"] == \"American Express\":\n",
    "            row = [\n",
    "                str(user[\"ID\"]),\n",
    "                str(user[\"JobTitle\"]),\n",
    "                str(user[\"EmailAddress\"]),\n",
    "                str(user[\"FirstNameLastName\"]),\n",
    "                str(user[\"CreditCard\"]),\n",
    "                str(user[\"CreditCardType\"])\n",
    "            ]\n",
    "            csv_writer.writerow(row)"
   ]
  },
  {
   "cell_type": "markdown",
   "id": "4f7a194d",
   "metadata": {},
   "source": [
    "(guess) 6 read this and plot the data https://www.dropbox.com/s/7u3lm737ogbqsg8/mushrooms_categorized.csv?dl=1"
   ]
  },
  {
   "cell_type": "markdown",
   "id": "3efa886d",
   "metadata": {},
   "source": [
    "7 Load the remote file https://www.dropbox.com/s/vkl89yce7xjdq4n/regression_generated.csv?dl=1 with Pandas and plot a scatter plot all possible combination of the following fields:\n",
    "\n",
    "    - features_1\n",
    "    - features_2\n",
    "    - features_3"
   ]
  },
  {
   "cell_type": "markdown",
   "id": "d2381ed3",
   "metadata": {},
   "source": [
    "8. Load the same file of point 6, and convert the file to json with Pandas."
   ]
  },
  {
   "cell_type": "code",
   "execution_count": null,
   "id": "e5954464",
   "metadata": {},
   "outputs": [],
   "source": []
  }
 ],
 "metadata": {
  "kernelspec": {
   "display_name": "Python 3 (ipykernel)",
   "language": "python",
   "name": "python3"
  },
  "language_info": {
   "codemirror_mode": {
    "name": "ipython",
    "version": 3
   },
   "file_extension": ".py",
   "mimetype": "text/x-python",
   "name": "python",
   "nbconvert_exporter": "python",
   "pygments_lexer": "ipython3",
   "version": "3.10.9"
  }
 },
 "nbformat": 4,
 "nbformat_minor": 5
}
