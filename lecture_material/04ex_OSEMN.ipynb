{
 "cells": [
  {
   "cell_type": "markdown",
   "id": "2bde12e5",
   "metadata": {},
   "source": [
    "# OSEMN Exercises"
   ]
  },
  {
   "cell_type": "markdown",
   "id": "8c40887b",
   "metadata": {},
   "source": [
    "1. Create a random list of number and then save it to a text file named \"simple_data.txt\""
   ]
  },
  {
   "cell_type": "markdown",
   "id": "6893b20e",
   "metadata": {},
   "source": [
    "2. Create a random matrix of 5x5 and then save it to a text file named \"data.txt\""
   ]
  },
  {
   "cell_type": "markdown",
   "id": "b0358955",
   "metadata": {},
   "source": [
    "3. Load the saved txt file of point 2 and convert it to a csv file (by hand)"
   ]
  },
  {
   "cell_type": "markdown",
   "id": "bbdc18c6",
   "metadata": {},
   "source": [
    "4. load the binary file named credit_card.dat and convert the data into the real credit-card number. Each line correspond to a credit card number. Each character is composed by 6 bit (even the space) and the last 4 bit are just a padding\n",
    "\n",
    "hint: use the chr() function to convert a number to a char\n"
   ]
  },
  {
   "cell_type": "markdown",
   "id": "ace1a417",
   "metadata": {},
   "source": [
    "5. Load the file \"user_data.json\", filter the data by the \"CreditCardType\" field equals to \"American Express\". Than save the data a to CSV.\""
   ]
  },
  {
   "cell_type": "markdown",
   "id": "4f7a194d",
   "metadata": {},
   "source": [
    "(guess) 6 read this and plot the data https://www.dropbox.com/s/7u3lm737ogbqsg8/mushrooms_categorized.csv?dl=1"
   ]
  },
  {
   "cell_type": "markdown",
   "id": "3efa886d",
   "metadata": {},
   "source": [
    "7 Load the remote file https://www.dropbox.com/s/vkl89yce7xjdq4n/regression_generated.csv?dl=1 with Pandas and plot a scatter plot all possible combination of the following fields:\n",
    "\n",
    "    - features_1\n",
    "    - features_2\n",
    "    - features_3"
   ]
  },
  {
   "cell_type": "markdown",
   "id": "d2381ed3",
   "metadata": {},
   "source": [
    "8. Load the same file of point 6, and convert the file to json with Pandas."
   ]
  },
  {
   "cell_type": "code",
   "execution_count": null,
   "id": "e5954464",
   "metadata": {},
   "outputs": [],
   "source": []
  }
 ],
 "metadata": {
  "kernelspec": {
   "display_name": "Python 3 (ipykernel)",
   "language": "python",
   "name": "python3"
  },
  "language_info": {
   "codemirror_mode": {
    "name": "ipython",
    "version": 3
   },
   "file_extension": ".py",
   "mimetype": "text/x-python",
   "name": "python",
   "nbconvert_exporter": "python",
   "pygments_lexer": "ipython3",
   "version": "3.10.9"
  }
 },
 "nbformat": 4,
 "nbformat_minor": 5
}
