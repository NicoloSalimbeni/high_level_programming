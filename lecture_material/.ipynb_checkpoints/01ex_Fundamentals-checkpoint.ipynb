{
 "cells": [
  {
   "cell_type": "markdown",
   "metadata": {},
   "source": [
    "1\\. Write the following as a list comprehension"
   ]
  },
  {
   "cell_type": "code",
   "execution_count": 2,
   "metadata": {},
   "outputs": [
    {
     "name": "stdout",
     "output_type": "stream",
     "text": [
      "[(0, 0), (0, 1), (0, 2), (0, 3), (1, 0), (1, 1), (1, 2), (1, 3), (2, 0), (2, 1), (2, 2), (2, 3)]\n",
      "[0, 4, 16]\n"
     ]
    }
   ],
   "source": [
    "# 1\n",
    "ans = []\n",
    "for i in range(3):\n",
    "    for j in range(4):\n",
    "        ans.append((i, j))\n",
    "print (ans)\n",
    "\n",
    "# 2\n",
    "ans = map(lambda x: x*x, filter(lambda x: x%2 == 0, range(5)))\n",
    "print (list(ans))\n",
    "\n"
   ]
  },
  {
   "cell_type": "code",
   "execution_count": 1,
   "metadata": {},
   "outputs": [
    {
     "name": "stdout",
     "output_type": "stream",
     "text": [
      "[(0, 0), (0, 1), (0, 2), (0, 3), (1, 0), (1, 1), (1, 2), (1, 3), (2, 0), (2, 1), (2, 2), (2, 3)]\n",
      "[0, 4, 16]\n"
     ]
    }
   ],
   "source": [
    "# as a list comprehension\n",
    "ans = [(i, j) for i in range(3) for j in range(4)]\n",
    "print(ans)\n",
    "\n",
    "ans = [x**2 for x in range(5) if x % 2 == 0]\n",
    "print(ans)"
   ]
  },
  {
   "cell_type": "markdown",
   "metadata": {},
   "source": [
    "2\\. Convert the following function into a pure function with no global variables or side effects"
   ]
  },
  {
   "cell_type": "code",
   "execution_count": null,
   "metadata": {},
   "outputs": [],
   "source": [
    "x = 5\n",
    "def f(alist):\n",
    "    for i in range(x):\n",
    "         alist.append(i)\n",
    "    return alist\n",
    "\n",
    "alist = [1,2,3]\n",
    "ans = f(alist)\n",
    "print (ans)\n",
    "print (alist) # alist has been changed!"
   ]
  },
  {
   "cell_type": "code",
   "execution_count": 4,
   "metadata": {},
   "outputs": [
    {
     "name": "stdout",
     "output_type": "stream",
     "text": [
      "[1, 2, 3, 0, 1, 2, 3, 4]\n",
      "[1, 2, 3]\n"
     ]
    }
   ],
   "source": [
    "def f1(a_list, n):\n",
    "    \"\"\"retrun a list with appended integers from 0 to x-1, no side effects,\n",
    "    no external viariables\"\"\"\n",
    "    temp = list(a_list)\n",
    "    for i in range(n):\n",
    "        temp.append(i)\n",
    "    return temp\n",
    "\n",
    "\n",
    "alist = [1, 2, 3]\n",
    "ans = f1(alist, 5)\n",
    "print(ans)\n",
    "print(alist)"
   ]
  },
  {
   "cell_type": "markdown",
   "metadata": {},
   "source": [
    "3\\. Write a `decorator` hello that makes every wrapped function print “Hello!”, i.e. something like:\n",
    "\n",
    "```python\n",
    "@hello\n",
    "def square(x):\n",
    "    return x*x\n",
    "```\n",
    "\n"
   ]
  },
  {
   "cell_type": "code",
   "execution_count": 1,
   "metadata": {},
   "outputs": [
    {
     "name": "stdout",
     "output_type": "stream",
     "text": [
      "Hello\n",
      "9\n"
     ]
    }
   ],
   "source": [
    "def square(x):\n",
    "    \"\"\"general function\"\"\"\n",
    "    return x * x\n",
    "\n",
    "\n",
    "def say_hi(func):\n",
    "    \"\"\"add print hello before ant operation\"\"\"\n",
    "\n",
    "    def wrapper(x):\n",
    "        print(\"Hello\")\n",
    "        return func(x)\n",
    "\n",
    "    return wrapper\n",
    "\n",
    "\n",
    "new_function = say_hi(square)\n",
    "print(new_function(3))"
   ]
  },
  {
   "cell_type": "markdown",
   "metadata": {},
   "source": [
    "4\\. Write the factorial function so that it a) does and b) does not use recursion."
   ]
  },
  {
   "cell_type": "code",
   "execution_count": 3,
   "metadata": {},
   "outputs": [
    {
     "name": "stdout",
     "output_type": "stream",
     "text": [
      "120\n",
      "120\n"
     ]
    }
   ],
   "source": [
    "# a) with no rectursion\n",
    "\n",
    "\n",
    "def factorial_1(x):\n",
    "    \"\"\"factorial with no recursion\"\"\"\n",
    "    factorial = 1\n",
    "    if x == 0:\n",
    "        return 1\n",
    "    for i in range(1, x):\n",
    "        factorial *= i\n",
    "    return factorial * x\n",
    "\n",
    "\n",
    "print(factorial_1(5))\n",
    "\n",
    "# b) with recursion\n",
    "\n",
    "\n",
    "def factorial_2(x):\n",
    "    \"\"\"factorial with recursion\"\"\"\n",
    "    if x - 1 < 1:\n",
    "        return 1\n",
    "    return x * factorial_2(x - 1)\n",
    "\n",
    "\n",
    "print(factorial_2(5))"
   ]
  },
  {
   "cell_type": "markdown",
   "metadata": {},
   "source": [
    "5\\. Use HOFs (zip in particular) to compute the weight of a circle, a disk and a sphere, assuming different radii and different densities:\n",
    "\n",
    "```python\n",
    "densities = {\"Al\":[0.5,1,2],\"Fe\":[3,4,5],\"Pb\": [15,20,30]}\n",
    "radii = [1,2,3]\n",
    "```\n",
    "\n",
    "where the entries of the dictionary's values are the linear, superficial and volumetric densities of the materials respectively.\n",
    "\n",
    "In particular define a list of three lambda functions using a comprehension that computes the circumference, the area and the volume for a given radius.\n"
   ]
  },
  {
   "cell_type": "code",
   "execution_count": 2,
   "metadata": {
    "scrolled": true
   },
   "outputs": [
    {
     "name": "stdout",
     "output_type": "stream",
     "text": [
      "Al\n",
      "weight of circle, disk, sphere: \n",
      "radius of:  1 [3.141592653589793, 3.141592653589793, 8.377580409572781]\n",
      "radius of:  2 [6.283185307179586, 12.566370614359172, 67.02064327658225]\n",
      "radius of:  3 [9.42477796076938, 28.274333882308138, 226.1946710584651]\n",
      "Fe\n",
      "weight of circle, disk, sphere: \n",
      "radius of:  1 [18.84955592153876, 12.566370614359172, 20.94395102393195]\n",
      "radius of:  2 [37.69911184307752, 50.26548245743669, 167.5516081914556]\n",
      "radius of:  3 [56.548667764616276, 113.09733552923255, 565.4866776461628]\n",
      "Pb\n",
      "weight of circle, disk, sphere: \n",
      "radius of:  1 [94.24777960769379, 62.83185307179586, 125.66370614359171]\n",
      "radius of:  2 [188.49555921538757, 251.32741228718345, 1005.3096491487337]\n",
      "radius of:  3 [282.7433388230814, 565.4866776461628, 3392.9200658769764]\n"
     ]
    }
   ],
   "source": [
    "from math import pi\n",
    "\n",
    "densities = {\"Al\": [0.5, 1, 2], \"Fe\": [3, 4, 5], \"Pb\": [15, 20, 30]}\n",
    "radii = [1, 2, 3]\n",
    "\n",
    "dimentions = [\n",
    "    lambda x: 2 * pi * x, lambda x: x**2 * pi, lambda x: 4 * pi * x**3 / 3\n",
    "]\n",
    "\n",
    "for element, element_density in densities.items():\n",
    "    print(element)\n",
    "    print(\"weight of circle, disk, sphere: \")\n",
    "    for r in radii:\n",
    "        print(\"radius of: \", r, end=' ')\n",
    "        values = []\n",
    "        for dimention, density in zip(dimentions, densities[element]):\n",
    "            values.append(density * dimention(r))\n",
    "        print(values)"
   ]
  },
  {
   "cell_type": "code",
   "execution_count": 4,
   "metadata": {},
   "outputs": [
    {
     "ename": "SyntaxError",
     "evalue": "unexpected character after line continuation character (156890009.py, line 1)",
     "output_type": "error",
     "traceback": [
      "\u001b[0;36m  Cell \u001b[0;32mIn[4], line 1\u001b[0;36m\u001b[0m\n\u001b[0;31m    6\\. Edit the class defintion to add an instance attribute of is_hungry = True to the Dog class. Then add a method called eat() which changes the value of is_hungry to False when called. Figure out the best way to feed each dog and then output “My dogs are hungry.” if all are hungry or “My dogs are not hungry.” if all are not hungry. The final output should look like this:\u001b[0m\n\u001b[0m      ^\u001b[0m\n\u001b[0;31mSyntaxError\u001b[0m\u001b[0;31m:\u001b[0m unexpected character after line continuation character\n"
     ]
    }
   ],
   "source": [
    "6\\. Edit the class defintion to add an instance attribute of is_hungry = True to the Dog class. Then add a method called eat() which changes the value of is_hungry to False when called. Figure out the best way to feed each dog and then output “My dogs are hungry.” if all are hungry or “My dogs are not hungry.” if all are not hungry. The final output should look like this:\n",
    "\n",
    "`I have 3 dogs. \n",
    "Tom is 6. \n",
    "Fletcher is 7. \n",
    "Larry is 9. \n",
    "And they're all mammals, of course. \n",
    "My dogs are not hungry.\n",
    "`\n",
    "\n",
    "```python\n",
    "# Parent class\n",
    "class Dog:\n",
    "\n",
    "    # Class attribute\n",
    "    species = 'mammal'\n",
    "\n",
    "    # Initializer / Instance attributes\n",
    "    def __init__(self, name, age):\n",
    "        self.name = name\n",
    "        self.age = age\n",
    "\n",
    "    # instance method\n",
    "    def description(self):\n",
    "        return \"{} is {} years old\".format(self.name, self.age)\n",
    "\n",
    "    # instance method\n",
    "    def speak(self, sound):\n",
    "        return \"{} says {}\".format(self.name, sound)\n",
    "\n",
    "# Child class (inherits from Dog class)\n",
    "class RussellTerrier(Dog):\n",
    "    def run(self, speed):\n",
    "        return \"{} runs {}\".format(self.name, speed)\n",
    "\n",
    "# Child class (inherits from Dog class)\n",
    "class Bulldog(Dog):\n",
    "    def run(self, speed):\n",
    "        return \"{} runs {}\".format(self.name, speed)\n",
    "```"
   ]
  },
  {
   "cell_type": "code",
   "execution_count": 6,
   "metadata": {},
   "outputs": [
    {
     "name": "stdout",
     "output_type": "stream",
     "text": [
      "I have  3  dogs\n",
      "Tom is 6 years old\n",
      "Flatcher is 7 years old\n",
      "Larry is 9 years old\n",
      "My dogs are hungry\n",
      "My dogs are not hungry\n"
     ]
    }
   ],
   "source": [
    "class Dog:\n",
    "    \"\"\"general dog object\"\"\"\n",
    "\n",
    "    # Class attribute\n",
    "    species = 'mammal'\n",
    "    is_hungry = True\n",
    "\n",
    "    # Initializer / Instance attributes\n",
    "    def __init__(self, name, age):\n",
    "        self.name = name\n",
    "        self.age = age\n",
    "\n",
    "    # instance method\n",
    "    def description(self):\n",
    "        \"\"\"return a string with general info of the dog\"\"\"\n",
    "        return f\"{self.name} is {self.age} years old\"\n",
    "\n",
    "    # instance method\n",
    "    def speak(self, sound):\n",
    "        \"\"\"return a string with what the dog says\"\"\"\n",
    "        return f\"{self.name} says {sound}\"\n",
    "\n",
    "    def eat(self):\n",
    "        \"\"\"change the status of is_hungry to False\"\"\"\n",
    "        self.is_hungry = False\n",
    "\n",
    "\n",
    "# Child class (inherits from Dog class)\n",
    "class RussellTerrier(Dog):\n",
    "    \"\"\"a species of dog\"\"\"\n",
    "\n",
    "    def run(self, speed):\n",
    "        \"\"\"returns a string with the speed of the dog\"\"\"\n",
    "        return f\"{self.name} runs { speed}\"\n",
    "\n",
    "\n",
    "# Child class (inherits from Dog class)\n",
    "class Bulldog(Dog):\n",
    "    \"\"\"a species of dog\"\"\"\n",
    "\n",
    "    def run(self, speed):\n",
    "        \"\"\"returns a string with the speed of the dog\"\"\"\n",
    "        return f\"{self.name} runs {speed}\"\n",
    "\n",
    "\n",
    "def feed_all(dogs):\n",
    "    \"\"\"feed all the dogs\"\"\"\n",
    "    for dog in dogs:\n",
    "        dog.eat()\n",
    "\n",
    "\n",
    "def check_hunger(dogs):\n",
    "    \"\"\"if they are hungry tells is\"\"\"\n",
    "    hungry_dogs = 0\n",
    "    not_hungry_dogs = 0\n",
    "    for dog in dogs:\n",
    "        if dog.is_hungry:\n",
    "            hungry_dogs += 1\n",
    "        elif not dog.is_hungry:\n",
    "            not_hungry_dogs += 1\n",
    "    if hungry_dogs == len(dogs):\n",
    "        print(\"My dogs are hungry\")\n",
    "    elif not_hungry_dogs == len(dogs):\n",
    "        print(\"My dogs are not hungry\")\n",
    "    else:\n",
    "        print(\"not all hungry/not hungry\")\n",
    "\n",
    "\n",
    "# start my script\n",
    "my_dogs = [\n",
    "    Bulldog(\"Tom\", 6),\n",
    "    RussellTerrier(\"Flatcher\", 7),\n",
    "    Bulldog(\"Larry\", 9)\n",
    "]\n",
    "\n",
    "print(\"I have \", len(my_dogs), \" dogs\")\n",
    "for dog in my_dogs:\n",
    "    print(dog.description())\n",
    "check_hunger(my_dogs)\n",
    "feed_all(my_dogs)\n",
    "check_hunger(my_dogs)"
   ]
  },
  {
   "cell_type": "code",
   "execution_count": null,
   "metadata": {},
   "outputs": [],
   "source": []
  }
 ],
 "metadata": {
  "kernelspec": {
   "display_name": "Python 3 (ipykernel)",
   "language": "python",
   "name": "python3"
  },
  "language_info": {
   "codemirror_mode": {
    "name": "ipython",
    "version": 3
   },
   "file_extension": ".py",
   "mimetype": "text/x-python",
   "name": "python",
   "nbconvert_exporter": "python",
   "pygments_lexer": "ipython3",
   "version": "3.10.9"
  }
 },
 "nbformat": 4,
 "nbformat_minor": 2
}
