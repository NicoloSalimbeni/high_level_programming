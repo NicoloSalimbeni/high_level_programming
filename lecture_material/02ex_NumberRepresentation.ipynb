{
 "cells": [
  {
   "cell_type": "markdown",
   "metadata": {},
   "source": [
    "1\\. Write a function that converts number representation (bin<->dec<->hex)"
   ]
  },
  {
   "cell_type": "code",
   "execution_count": 1,
   "metadata": {},
   "outputs": [
    {
     "name": "stdout",
     "output_type": "stream",
     "text": [
      "Would you like to convert a decimal a binary or an hexagesimal number?\n",
      "Type dec/bin/hex: bin\n",
      "what number do you want to convert? 100110\n",
      "decimal:  38\n",
      "binary:  100110\n",
      "hexadecimal:  26\n"
     ]
    }
   ],
   "source": [
    "hex_bin_conversion = {\n",
    "    \"0\": \"0000\",\n",
    "    \"1\": \"0001\",\n",
    "    \"2\": \"0010\",\n",
    "    \"3\": \"0011\",\n",
    "    \"4\": \"0100\",\n",
    "    \"5\": \"0101\",\n",
    "    \"6\": \"0110\",\n",
    "    \"7\": \"0111\",\n",
    "    \"8\": \"1000\",\n",
    "    \"9\": \"1001\",\n",
    "    \"a\": \"1010\",\n",
    "    \"b\": \"1011\",\n",
    "    \"c\": \"1100\",\n",
    "    \"d\": \"1101\",\n",
    "    \"e\": \"1110\",\n",
    "    \"f\": \"1111\",\n",
    "}\n",
    "\n",
    "hex_dec_conversion = {\n",
    "    \"0\": 0,\n",
    "    \"1\": 1,\n",
    "    \"2\": 2,\n",
    "    \"3\": 3,\n",
    "    \"4\": 4,\n",
    "    \"5\": 5,\n",
    "    \"6\": 6,\n",
    "    \"7\": 7,\n",
    "    \"8\": 8,\n",
    "    \"9\": 9,\n",
    "    \"a\": 10,\n",
    "    \"b\": 11,\n",
    "    \"c\": 12,\n",
    "    \"d\": 13,\n",
    "    \"e\": 14,\n",
    "    \"f\": 15,\n",
    "}\n",
    "\n",
    "dec_hex_conversion = {\n",
    "    0: \"0\",\n",
    "    1: \"1\",\n",
    "    2: \"2\",\n",
    "    3: \"3\",\n",
    "    4: \"4\",\n",
    "    5: \"5\",\n",
    "    6: \"6\",\n",
    "    7: \"7\",\n",
    "    8: \"8\",\n",
    "    9: \"9\",\n",
    "    10: \"a\",\n",
    "    11: \"b\",\n",
    "    12: \"c\",\n",
    "    13: \"d\",\n",
    "    14: \"e\",\n",
    "    15: \"f\",\n",
    "}\n",
    "\n",
    "\n",
    "def bin_to_dec(x):\n",
    "    \"\"\"convertion from binary to decimal rapresentation\"\"\"\n",
    "    s = str(x)\n",
    "    number = 0\n",
    "    count = 0\n",
    "    for i in reversed(s.lower()):\n",
    "        a = int(i)\n",
    "        number += pow(2, count) * a\n",
    "        count += 1\n",
    "    return number\n",
    "\n",
    "\n",
    "def dec_to_bin(x):\n",
    "    \"\"\"convertion from decimal to binary rapresentation\"\"\"\n",
    "    number = int(x)\n",
    "    s = \"\"\n",
    "    while number >= 1:\n",
    "        s += str(number % 2)\n",
    "        number = number // 2\n",
    "    return s[::-1]\n",
    "\n",
    "\n",
    "def hex_to_bin(x):\n",
    "    \"convertion from hexadeciaml to binary integers\"\n",
    "    bin_number = \"\"\n",
    "    for i in x:\n",
    "        bin_number += hex_bin_conversion[i]\n",
    "    # erase first 0 characters to be coherent with binary notation\n",
    "    count = 0\n",
    "    for i in bin_number:\n",
    "        if i == \"1\":\n",
    "            break\n",
    "        count += 1\n",
    "    temp = \"\"\n",
    "    for i in range(count, len(bin_number)):\n",
    "        temp += bin_number[i]\n",
    "    return temp\n",
    "\n",
    "\n",
    "def hex_to_dec(x):\n",
    "    \"\"\"convert an hexadecimal to decimal number\"\"\"\n",
    "    s = str(x)\n",
    "    number = 0\n",
    "    count = 0\n",
    "    for i in reversed(s.lower()):\n",
    "        number += hex_dec_conversion[i] * pow(16, count)\n",
    "        count += 1\n",
    "    return number\n",
    "\n",
    "\n",
    "def dec_to_hex(x):\n",
    "    \"\"\"convert decimal to hexadecimal number\"\"\"\n",
    "    number = int(x)\n",
    "    s = \"\"\n",
    "    while number > 0:\n",
    "        s += dec_hex_conversion[number % 16]\n",
    "        number = number // 16\n",
    "    return s[::-1]\n",
    "\n",
    "\n",
    "print(\"Would you like to convert a decimal a binary or an hexagesimal number?\")\n",
    "type_of_number = input(\"Type dec/bin/hex: \")\n",
    "number_to_convert = input(\"what number do you want to convert? \")\n",
    "\n",
    "if type_of_number == \"bin\":\n",
    "    print(\"decimal: \", bin_to_dec(number_to_convert))\n",
    "    print(\"binary: \", number_to_convert)\n",
    "    print(\"hexadecimal: \", dec_to_hex(bin_to_dec(number_to_convert)))\n",
    "\n",
    "if type_of_number == \"dec\":\n",
    "    print(\"decimal: \", number_to_convert)\n",
    "    print(\"binary: \", dec_to_bin(number_to_convert))\n",
    "    print(\"hexadecimal: \", dec_to_hex(number_to_convert))\n",
    "\n",
    "if type_of_number == \"hex\":\n",
    "    print(\"decimal: \", hex_to_dec(number_to_convert))\n",
    "    print(\"binary: \", hex_to_bin(number_to_convert))\n",
    "    print(\"hexadecimal: \", number_to_convert)"
   ]
  },
  {
   "cell_type": "markdown",
   "metadata": {},
   "source": [
    "2\\. Write a function that converts a 32 bit word into a single precision floating point (i.e. interprets the various bits as sign, mantissa and exponent)"
   ]
  },
  {
   "cell_type": "code",
   "execution_count": 2,
   "metadata": {},
   "outputs": [
    {
     "name": "stdout",
     "output_type": "stream",
     "text": [
      "insert the value in binary or hexadecimal rapresantation to convert: 11000010100000011100110011001101\n",
      "exponential binary:  10000101\n",
      "exponential decimal:  133\n",
      "mantissa binary:  00000011100110011001101\n",
      "mantissa decimal:  1.014062523841858\n",
      "value:  -64.9000015258789\n"
     ]
    }
   ],
   "source": [
    "hex_bin_conversion = {\n",
    "    \"0\": \"0000\",\n",
    "    \"1\": \"0001\",\n",
    "    \"2\": \"0010\",\n",
    "    \"3\": \"0011\",\n",
    "    \"4\": \"0100\",\n",
    "    \"5\": \"0101\",\n",
    "    \"6\": \"0110\",\n",
    "    \"7\": \"0111\",\n",
    "    \"8\": \"1000\",\n",
    "    \"9\": \"1001\",\n",
    "    \"a\": \"1010\",\n",
    "    \"b\": \"1011\",\n",
    "    \"c\": \"1100\",\n",
    "    \"d\": \"1101\",\n",
    "    \"e\": \"1110\",\n",
    "    \"f\": \"1111\",\n",
    "}\n",
    "\n",
    "\n",
    "def hex_to_bin(x):\n",
    "    \"convertion from hexadeciaml to binary integers\"\n",
    "    bin_number = \"\"\n",
    "    for i in x:\n",
    "        bin_number += hex_bin_conversion[i]\n",
    "    return bin_number\n",
    "\n",
    "\n",
    "def bin_to_dec(x):\n",
    "    \"\"\"convertion from binary to decimal rapresentation\"\"\"\n",
    "    s = str(x)\n",
    "    number = 0\n",
    "    count = 0\n",
    "    for i in reversed(s.lower()):\n",
    "        a = int(i)\n",
    "        number += pow(2, count) * a\n",
    "        count += 1\n",
    "    return number\n",
    "\n",
    "\n",
    "to_convert = input(\n",
    "    \"insert the value in binary or hexadecimal rapresantation to convert: \")\n",
    "\n",
    "# check if in hex, in this case go to binary\n",
    "if len(to_convert) == 8:\n",
    "    to_convert = hex_to_bin(to_convert)\n",
    "\n",
    "# compute the exponent\n",
    "exp_bin = to_convert[1:9]\n",
    "print(\"exponential binary: \", exp_bin)\n",
    "exp = bin_to_dec(exp_bin)\n",
    "print(\"exponential decimal: \", exp)\n",
    "\n",
    "# computer the mantissa\n",
    "mantissa_bin = to_convert[9:len(to_convert)]\n",
    "print(\"mantissa binary: \", mantissa_bin)\n",
    "decimal_part = 1\n",
    "count = 1\n",
    "for i in mantissa_bin:\n",
    "    i = int(i)\n",
    "    decimal_part += pow(2, (-1) * count) * i\n",
    "    count += 1\n",
    "print(\"mantissa decimal: \", decimal_part)\n",
    "\n",
    "print(\"value: \",\n",
    "      pow(-1, int(to_convert[0])) * decimal_part * pow(2, exp - 127))"
   ]
  },
  {
   "cell_type": "markdown",
   "metadata": {},
   "source": [
    "3\\. Write a program to determine the underflow and overflow limits (within a factor of 2) for python on your computer. \n",
    "\n",
    "**Tips**: define two variables inizialized to 1 and halve/double them enough time to exceed the under/over-flow limits  "
   ]
  },
  {
   "cell_type": "code",
   "execution_count": 1,
   "metadata": {},
   "outputs": [
    {
     "name": "stdout",
     "output_type": "stream",
     "text": [
      "underflow occur at:  5e-324\n",
      "overflow occur at:  8.98846567431158e+307\n"
     ]
    }
   ],
   "source": [
    "number = 1\n",
    "\n",
    "while number / 2 > 0:\n",
    "    number /= 2\n",
    "    if number / 2 == 0:\n",
    "        print(\"underflow occur at: \", number)\n",
    "\n",
    "number = 1.\n",
    "\n",
    "while number * 2 < float(\"inf\"):\n",
    "    number *= 2\n",
    "    if number * 2 == float(\"inf\"):\n",
    "        print(\"overflow occur at: \", number)"
   ]
  },
  {
   "cell_type": "markdown",
   "metadata": {},
   "source": [
    "4\\. Write a program to determine the machine precision\n",
    "\n",
    "**Tips**: define a new variable by adding a smaller and smaller value (proceeding similarly to prob. 2) to an original variable and check the point where the two are the same "
   ]
  },
  {
   "cell_type": "code",
   "execution_count": 3,
   "metadata": {},
   "outputs": [
    {
     "name": "stdout",
     "output_type": "stream",
     "text": [
      "precision:  1.1102230246251565e-16\n"
     ]
    }
   ],
   "source": [
    "number = 1.5\n",
    "a = 1\n",
    "while number != number + a:\n",
    "    a /= 2\n",
    "\n",
    "print(\"precision: \", a)"
   ]
  },
  {
   "cell_type": "markdown",
   "metadata": {},
   "source": [
    "5\\. Write a function that takes in input three parameters $a$, $b$ and $c$ and prints out the two solutions to the quadratic equation $ax^2+bx+c=0$ using the standard formula:\n",
    "$$\n",
    "x=\\frac{-b\\pm\\sqrt{b^2-4ac}}{2a}\n",
    "$$\n",
    "\n",
    "(a) use the program to compute the solution for $a=0.001$, $b=1000$ and $c=0.001$\n",
    "\n",
    "(b) re-express the standard solution formula by multiplying top and bottom by $-b\\mp\\sqrt{b^2-4ac}$ and again find the solution for $a=0.001$, $b=1000$ and $c=0.001$. How does it compare with what previously obtained? Why?\n",
    "\n",
    "(c) write a function that compute the roots of a quadratic equation accurately in all cases"
   ]
  },
  {
   "cell_type": "code",
   "execution_count": null,
   "metadata": {},
   "outputs": [],
   "source": [
    "from math import sqrt\n",
    "from numpy import sign\n",
    "\n",
    "\n",
    "def Solve1(a, b, c):\n",
    "    \"\"\"usual function\"\"\"\n",
    "    sol = [(-b + sqrt(b**2 - 4 * a * c)) / (2 * a),\n",
    "           (-b - sqrt(b**2 - 4 * a * c)) / (2 * a)]\n",
    "    return sol\n",
    "\n",
    "\n",
    "def Solve2(a, b, c):\n",
    "    \"\"\"usual function\"\"\"\n",
    "    d = b**2 - 4 * a * c\n",
    "    sol_plus = (d - b**2) / (2 * a * (b + sqrt(d)))\n",
    "    sol_minus = (d - b**2) / (2 * a * (b - sqrt(d)))\n",
    "\n",
    "    sol = [sol_plus, sol_minus]\n",
    "    return sol\n",
    "\n",
    "\n",
    "def SolveStable(a, b, c):\n",
    "    \"\"\"stable function\"\"\"\n",
    "    sol_plus = -2 * c / (b + sign(b) * sqrt(b**2 - 4 * a * c))\n",
    "    sol_minus = c / (a * sol_plus)\n",
    "    return [sol_plus, sol_minus]\n",
    "\n",
    "\n",
    "a1 = 0.001\n",
    "b1 = 1000\n",
    "c1 = 0.001\n",
    "print(\"usual formula: \", Solve1(a1, b1, c1))\n",
    "print(\"rationalized formula: \", Solve2(a1, b1, c1))\n",
    "print(\"stable function: \", SolveStable(a1, b1, c1))"
   ]
  },
  {
   "cell_type": "markdown",
   "metadata": {},
   "source": [
    "the two solutions are: $x_1=\\frac{-b+\\sqrt{b^2-4ac}}{2a}$ and $x_2=\\frac{-b-\\sqrt{b^2-4ac}}{2a}$, depending on the sign of b we are subtracting in one of them very similar numbers, to fix the problem we can use the following equations:\n",
    "$$\n",
    " x_1=\\frac{-2  c}{ b + sign(b)  \\sqrt{b^2 - 4  a  c}}\n",
    "$$\n",
    "\n",
    "$$\n",
    " x_2=\\frac{c}{ax_1}\n",
    "$$\n"
   ]
  },
  {
   "cell_type": "markdown",
   "metadata": {},
   "source": [
    "6\\. Write a program that implements the function $f(x)=x(x−1)$\n",
    "\n",
    "(a) Calculate the derivative of the function at the point $x = 1$ using the derivative definition:\n",
    "\n",
    "$$\n",
    "\\frac{{\\rm d}f}{{\\rm d}x} = \\lim_{\\delta\\to0} \\frac{f(x+\\delta)-f(x)}{\\delta}\n",
    "$$\n",
    "\n",
    "with $\\delta = 10^{−2}$. Calculate the true value of the same derivative analytically and compare with the answer your program gives. The two will not agree perfectly. Why not?\n",
    "\n",
    "(b) Repeat the calculation for $\\delta = 10^{−4}, 10^{−6}, 10^{−8}, 10^{−10}, 10^{−12}$ and $10^{−14}$. How does the accuracy scales with $\\delta$?"
   ]
  },
  {
   "cell_type": "code",
   "execution_count": 15,
   "metadata": {},
   "outputs": [
    {
     "name": "stdout",
     "output_type": "stream",
     "text": [
      "delta \t\t manual \t\t analytical \t manual-analytical\n",
      "10^( 2 )\t 1.010000000000001 \t 1 \t\t 0.010000000000000897\n",
      "10^( 4 )\t 1.0000999999998899 \t 1 \t\t 9.999999988985486e-05\n",
      "10^( 6 )\t 1.0000009999177333 \t 1 \t\t 9.99917733279787e-07\n",
      "10^( 8 )\t 1.0000000039225287 \t 1 \t\t 3.922528746258536e-09\n",
      "10^( 10 )\t 1.000000082840371 \t 1 \t\t 8.284037100736441e-08\n",
      "10^( 12 )\t 1.0000889005833413 \t 1 \t\t 8.890058334132256e-05\n",
      "10^( 14 )\t 0.9992007221626509 \t 1 \t\t -0.0007992778373491216\n"
     ]
    }
   ],
   "source": [
    "def diff(func, x, d):\n",
    "    \"\"\"1st derivative of func in x with increment d\"\"\"\n",
    "    return (func(x + d) - func(x)) / d\n",
    "\n",
    "\n",
    "def f(x):\n",
    "    \"\"\"example function\"\"\"\n",
    "    return x * (x - 1)\n",
    "\n",
    "\n",
    "def f_1(x):\n",
    "    \"\"\"analytical derivative\"\"\"\n",
    "    return 2 * x - 1\n",
    "\n",
    "\n",
    "print(\"delta \\t\\t manual \\t\\t analytical \\t manual-analytical\")\n",
    "for i in range(2, 16, 2):\n",
    "    print(\"10^(\", i, \")\\t\", diff(f, 1, pow(10, -1 * i)), \"\\t\", f_1(1), \"\\t\\t\",\n",
    "          diff(f, 1, pow(10, -1 * i)) - f_1(1))"
   ]
  },
  {
   "cell_type": "markdown",
   "metadata": {},
   "source": [
    "the precison in getting better while the delta decreases, this for a mathematical point of view, the derivative is more precise when $\\delta$ is smaller. But if $\\delta$ is too small when face precision trubles, in the numerator there are very close numbers and thier subtraction results in precision errors."
   ]
  },
  {
   "cell_type": "markdown",
   "metadata": {},
   "source": [
    "7\\. Consider the integral of the semicircle of radius 1:\n",
    "$$\n",
    "I=\\int_{-1}^{1} \\sqrt(1-x^2) {\\rm d}x\n",
    "$$\n",
    "which it's known to be $I=\\frac{\\pi}{2}=1.57079632679...$.\n",
    "Alternatively we can use the Riemann definition of the integral:\n",
    "$$\n",
    "I=\\lim_{N\\to\\infty} \\sum_{k=1}^{N} h y_k \n",
    "$$\n",
    "\n",
    "with $h=2/N$ the width of each of the $N$ slices the domain is divided into and where\n",
    "$y_k$ is the value of the function at the $k-$th slice.\n",
    "\n",
    "(a) Write a programe to compute the integral with $N=100$. How does the result compares to the true value?\n",
    "\n",
    "(b) How much can $N$ be increased if the computation needs to be run in less than a second? What is the gain in running it for 1 minute? \n"
   ]
  },
  {
   "cell_type": "code",
   "execution_count": 17,
   "metadata": {},
   "outputs": [
    {
     "name": "stderr",
     "output_type": "stream",
     "text": [
      "                                       \r"
     ]
    },
    {
     "name": "stdout",
     "output_type": "stream",
     "text": [
      "power of 10 \t manual \t\t analytical \t\t (analy-manual)/analy %\n",
      "2 \t\t 1.5712827762297958 \t 1.5707963267948966 \t 0.030968332851392024\n"
     ]
    },
    {
     "name": "stderr",
     "output_type": "stream",
     "text": [
      "                                                             "
     ]
    },
    {
     "name": "stdout",
     "output_type": "stream",
     "text": [
      "6 \t\t 1.5707963272820449 \t 1.5707963267948966 \t 4.871483216817296e-10\n",
      "execution time:  0.4036886692047119\n"
     ]
    },
    {
     "name": "stderr",
     "output_type": "stream",
     "text": [
      "\r"
     ]
    }
   ],
   "source": [
    "from math import sqrt\n",
    "from math import pi\n",
    "import time\n",
    "from tqdm import tqdm\n",
    "\n",
    "\n",
    "def integral(f, N, x_min, x_max):\n",
    "    \"\"\"integrate a function\"\"\"\n",
    "    h = (x_max - x_min) / N\n",
    "    integral_value = 0\n",
    "    for i in tqdm(range(0, int(N)), leave=False):\n",
    "        x_i = x_min + h * (i + 0.5)\n",
    "        integral_value += h * f(x_i)\n",
    "    return integral_value\n",
    "\n",
    "\n",
    "def semicircle(x):\n",
    "    \"\"\"function of positive semicircle\"\"\"\n",
    "    return sqrt(1 - x * x)\n",
    "\n",
    "\n",
    "int_n_2 = integral(semicircle, 100, -1, 1)\n",
    "print(\"power of 10 \\t manual \\t\\t analytical \\t\\t (analy-manual)/analy %\")\n",
    "print(2, \"\\t\\t\", int_n_2, \"\\t\", pi / 2, \"\\t\",\n",
    "      (int_n_2 - pi / 2) * 100 / (pi / 2))\n",
    "\n",
    "n = 6\n",
    "t_init = time.time()\n",
    "int_n_n = integral(semicircle, pow(10, n), -1, 1)\n",
    "t_end = time.time()\n",
    "\n",
    "print(n, \"\\t\\t\", int_n_n, \"\\t\", pi / 2, \"\\t\", int_n_n - pi / 2)\n",
    "print(\"execution time: \", t_end - t_init)"
   ]
  },
  {
   "cell_type": "markdown",
   "metadata": {},
   "source": [
    "for N $\\approx 10^{6.7}$ the precision $\\epsilon$ % is $\\epsilon \\approx 10^{-11}$ and the runtime is around 1s, if N $\\approx 10^{8.5}$ the precision $\\epsilon$ % is $\\epsilon \\approx 10^{-13}$ which remains still even increasing N due to the precision error of number rapresentation \n"
   ]
  },
  {
   "cell_type": "code",
   "execution_count": null,
   "metadata": {},
   "outputs": [],
   "source": []
  }
 ],
 "metadata": {
  "kernelspec": {
   "display_name": "Python 3 (ipykernel)",
   "language": "python",
   "name": "python3"
  },
  "language_info": {
   "codemirror_mode": {
    "name": "ipython",
    "version": 3
   },
   "file_extension": ".py",
   "mimetype": "text/x-python",
   "name": "python",
   "nbconvert_exporter": "python",
   "pygments_lexer": "ipython3",
   "version": "3.10.9"
  }
 },
 "nbformat": 4,
 "nbformat_minor": 2
}
